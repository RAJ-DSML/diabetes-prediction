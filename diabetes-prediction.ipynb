{
 "cells": [
  {
   "cell_type": "code",
   "execution_count": 1,
   "id": "e37be593",
   "metadata": {
    "_cell_guid": "b1076dfc-b9ad-4769-8c92-a6c4dae69d19",
    "_uuid": "8f2839f25d086af736a60e9eeb907d3b93b6e0e5",
    "execution": {
     "iopub.execute_input": "2022-03-18T06:15:23.972819Z",
     "iopub.status.busy": "2022-03-18T06:15:23.971541Z",
     "iopub.status.idle": "2022-03-18T06:15:23.989208Z",
     "shell.execute_reply": "2022-03-18T06:15:23.990065Z",
     "shell.execute_reply.started": "2022-03-18T05:41:13.696875Z"
    },
    "papermill": {
     "duration": 0.043813,
     "end_time": "2022-03-18T06:15:23.990568",
     "exception": false,
     "start_time": "2022-03-18T06:15:23.946755",
     "status": "completed"
    },
    "tags": []
   },
   "outputs": [
    {
     "name": "stdout",
     "output_type": "stream",
     "text": [
      "/kaggle/input/pima-indians-diabetes-database/diabetes.csv\n"
     ]
    }
   ],
   "source": [
    "# This Python 3 environment comes with many helpful analytics libraries installed\n",
    "# It is defined by the kaggle/python Docker image: https://github.com/kaggle/docker-python\n",
    "# For example, here's several helpful packages to load\n",
    "\n",
    "import numpy as np # linear algebra\n",
    "import pandas as pd # data processing, CSV file I/O (e.g. pd.read_csv)\n",
    "\n",
    "# Input data files are available in the read-only \"../input/\" directory\n",
    "# For example, running this (by clicking run or pressing Shift+Enter) will list all files under the input directory\n",
    "\n",
    "import os\n",
    "for dirname, _, filenames in os.walk('/kaggle/input'):\n",
    "    for filename in filenames:\n",
    "        print(os.path.join(dirname, filename))\n",
    "\n",
    "# You can write up to 20GB to the current directory (/kaggle/working/) that gets preserved as output when you create a version using \"Save & Run All\" \n",
    "# You can also write temporary files to /kaggle/temp/, but they won't be saved outside of the current session"
   ]
  },
  {
   "cell_type": "code",
   "execution_count": 2,
   "id": "d1cd507d",
   "metadata": {
    "execution": {
     "iopub.execute_input": "2022-03-18T06:15:24.035972Z",
     "iopub.status.busy": "2022-03-18T06:15:24.035218Z",
     "iopub.status.idle": "2022-03-18T06:15:24.072472Z",
     "shell.execute_reply": "2022-03-18T06:15:24.071768Z",
     "shell.execute_reply.started": "2022-03-18T05:41:17.328978Z"
    },
    "papermill": {
     "duration": 0.059793,
     "end_time": "2022-03-18T06:15:24.072646",
     "exception": false,
     "start_time": "2022-03-18T06:15:24.012853",
     "status": "completed"
    },
    "tags": []
   },
   "outputs": [
    {
     "data": {
      "text/html": [
       "<div>\n",
       "<style scoped>\n",
       "    .dataframe tbody tr th:only-of-type {\n",
       "        vertical-align: middle;\n",
       "    }\n",
       "\n",
       "    .dataframe tbody tr th {\n",
       "        vertical-align: top;\n",
       "    }\n",
       "\n",
       "    .dataframe thead th {\n",
       "        text-align: right;\n",
       "    }\n",
       "</style>\n",
       "<table border=\"1\" class=\"dataframe\">\n",
       "  <thead>\n",
       "    <tr style=\"text-align: right;\">\n",
       "      <th></th>\n",
       "      <th>Pregnancies</th>\n",
       "      <th>Glucose</th>\n",
       "      <th>BloodPressure</th>\n",
       "      <th>SkinThickness</th>\n",
       "      <th>Insulin</th>\n",
       "      <th>BMI</th>\n",
       "      <th>DiabetesPedigreeFunction</th>\n",
       "      <th>Age</th>\n",
       "      <th>Outcome</th>\n",
       "    </tr>\n",
       "  </thead>\n",
       "  <tbody>\n",
       "    <tr>\n",
       "      <th>0</th>\n",
       "      <td>6</td>\n",
       "      <td>148</td>\n",
       "      <td>72</td>\n",
       "      <td>35</td>\n",
       "      <td>0</td>\n",
       "      <td>33.6</td>\n",
       "      <td>0.627</td>\n",
       "      <td>50</td>\n",
       "      <td>1</td>\n",
       "    </tr>\n",
       "    <tr>\n",
       "      <th>1</th>\n",
       "      <td>1</td>\n",
       "      <td>85</td>\n",
       "      <td>66</td>\n",
       "      <td>29</td>\n",
       "      <td>0</td>\n",
       "      <td>26.6</td>\n",
       "      <td>0.351</td>\n",
       "      <td>31</td>\n",
       "      <td>0</td>\n",
       "    </tr>\n",
       "    <tr>\n",
       "      <th>2</th>\n",
       "      <td>8</td>\n",
       "      <td>183</td>\n",
       "      <td>64</td>\n",
       "      <td>0</td>\n",
       "      <td>0</td>\n",
       "      <td>23.3</td>\n",
       "      <td>0.672</td>\n",
       "      <td>32</td>\n",
       "      <td>1</td>\n",
       "    </tr>\n",
       "    <tr>\n",
       "      <th>3</th>\n",
       "      <td>1</td>\n",
       "      <td>89</td>\n",
       "      <td>66</td>\n",
       "      <td>23</td>\n",
       "      <td>94</td>\n",
       "      <td>28.1</td>\n",
       "      <td>0.167</td>\n",
       "      <td>21</td>\n",
       "      <td>0</td>\n",
       "    </tr>\n",
       "    <tr>\n",
       "      <th>4</th>\n",
       "      <td>0</td>\n",
       "      <td>137</td>\n",
       "      <td>40</td>\n",
       "      <td>35</td>\n",
       "      <td>168</td>\n",
       "      <td>43.1</td>\n",
       "      <td>2.288</td>\n",
       "      <td>33</td>\n",
       "      <td>1</td>\n",
       "    </tr>\n",
       "  </tbody>\n",
       "</table>\n",
       "</div>"
      ],
      "text/plain": [
       "   Pregnancies  Glucose  BloodPressure  SkinThickness  Insulin   BMI  \\\n",
       "0            6      148             72             35        0  33.6   \n",
       "1            1       85             66             29        0  26.6   \n",
       "2            8      183             64              0        0  23.3   \n",
       "3            1       89             66             23       94  28.1   \n",
       "4            0      137             40             35      168  43.1   \n",
       "\n",
       "   DiabetesPedigreeFunction  Age  Outcome  \n",
       "0                     0.627   50        1  \n",
       "1                     0.351   31        0  \n",
       "2                     0.672   32        1  \n",
       "3                     0.167   21        0  \n",
       "4                     2.288   33        1  "
      ]
     },
     "execution_count": 2,
     "metadata": {},
     "output_type": "execute_result"
    }
   ],
   "source": [
    "df = pd.read_csv('../input/pima-indians-diabetes-database/diabetes.csv')\n",
    "df.head()"
   ]
  },
  {
   "cell_type": "code",
   "execution_count": 3,
   "id": "1190413e",
   "metadata": {
    "execution": {
     "iopub.execute_input": "2022-03-18T06:15:24.118117Z",
     "iopub.status.busy": "2022-03-18T06:15:24.117053Z",
     "iopub.status.idle": "2022-03-18T06:15:24.125052Z",
     "shell.execute_reply": "2022-03-18T06:15:24.125602Z",
     "shell.execute_reply.started": "2022-03-18T05:41:19.903346Z"
    },
    "papermill": {
     "duration": 0.032681,
     "end_time": "2022-03-18T06:15:24.125810",
     "exception": false,
     "start_time": "2022-03-18T06:15:24.093129",
     "status": "completed"
    },
    "tags": []
   },
   "outputs": [
    {
     "data": {
      "text/plain": [
       "Pregnancies                 0\n",
       "Glucose                     0\n",
       "BloodPressure               0\n",
       "SkinThickness               0\n",
       "Insulin                     0\n",
       "BMI                         0\n",
       "DiabetesPedigreeFunction    0\n",
       "Age                         0\n",
       "Outcome                     0\n",
       "dtype: int64"
      ]
     },
     "execution_count": 3,
     "metadata": {},
     "output_type": "execute_result"
    }
   ],
   "source": [
    "#check the null value\n",
    "df.isnull().sum()"
   ]
  },
  {
   "cell_type": "code",
   "execution_count": 4,
   "id": "727b680a",
   "metadata": {
    "execution": {
     "iopub.execute_input": "2022-03-18T06:15:24.173170Z",
     "iopub.status.busy": "2022-03-18T06:15:24.172458Z",
     "iopub.status.idle": "2022-03-18T06:15:24.221943Z",
     "shell.execute_reply": "2022-03-18T06:15:24.222506Z",
     "shell.execute_reply.started": "2022-03-18T05:41:22.889214Z"
    },
    "papermill": {
     "duration": 0.075338,
     "end_time": "2022-03-18T06:15:24.222711",
     "exception": false,
     "start_time": "2022-03-18T06:15:24.147373",
     "status": "completed"
    },
    "tags": []
   },
   "outputs": [
    {
     "data": {
      "text/html": [
       "<div>\n",
       "<style scoped>\n",
       "    .dataframe tbody tr th:only-of-type {\n",
       "        vertical-align: middle;\n",
       "    }\n",
       "\n",
       "    .dataframe tbody tr th {\n",
       "        vertical-align: top;\n",
       "    }\n",
       "\n",
       "    .dataframe thead th {\n",
       "        text-align: right;\n",
       "    }\n",
       "</style>\n",
       "<table border=\"1\" class=\"dataframe\">\n",
       "  <thead>\n",
       "    <tr style=\"text-align: right;\">\n",
       "      <th></th>\n",
       "      <th>Pregnancies</th>\n",
       "      <th>Glucose</th>\n",
       "      <th>BloodPressure</th>\n",
       "      <th>SkinThickness</th>\n",
       "      <th>Insulin</th>\n",
       "      <th>BMI</th>\n",
       "      <th>DiabetesPedigreeFunction</th>\n",
       "      <th>Age</th>\n",
       "      <th>Outcome</th>\n",
       "    </tr>\n",
       "  </thead>\n",
       "  <tbody>\n",
       "    <tr>\n",
       "      <th>count</th>\n",
       "      <td>768.000000</td>\n",
       "      <td>768.000000</td>\n",
       "      <td>768.000000</td>\n",
       "      <td>768.000000</td>\n",
       "      <td>768.000000</td>\n",
       "      <td>768.000000</td>\n",
       "      <td>768.000000</td>\n",
       "      <td>768.000000</td>\n",
       "      <td>768.000000</td>\n",
       "    </tr>\n",
       "    <tr>\n",
       "      <th>mean</th>\n",
       "      <td>3.845052</td>\n",
       "      <td>120.894531</td>\n",
       "      <td>69.105469</td>\n",
       "      <td>20.536458</td>\n",
       "      <td>79.799479</td>\n",
       "      <td>31.992578</td>\n",
       "      <td>0.471876</td>\n",
       "      <td>33.240885</td>\n",
       "      <td>0.348958</td>\n",
       "    </tr>\n",
       "    <tr>\n",
       "      <th>std</th>\n",
       "      <td>3.369578</td>\n",
       "      <td>31.972618</td>\n",
       "      <td>19.355807</td>\n",
       "      <td>15.952218</td>\n",
       "      <td>115.244002</td>\n",
       "      <td>7.884160</td>\n",
       "      <td>0.331329</td>\n",
       "      <td>11.760232</td>\n",
       "      <td>0.476951</td>\n",
       "    </tr>\n",
       "    <tr>\n",
       "      <th>min</th>\n",
       "      <td>0.000000</td>\n",
       "      <td>0.000000</td>\n",
       "      <td>0.000000</td>\n",
       "      <td>0.000000</td>\n",
       "      <td>0.000000</td>\n",
       "      <td>0.000000</td>\n",
       "      <td>0.078000</td>\n",
       "      <td>21.000000</td>\n",
       "      <td>0.000000</td>\n",
       "    </tr>\n",
       "    <tr>\n",
       "      <th>25%</th>\n",
       "      <td>1.000000</td>\n",
       "      <td>99.000000</td>\n",
       "      <td>62.000000</td>\n",
       "      <td>0.000000</td>\n",
       "      <td>0.000000</td>\n",
       "      <td>27.300000</td>\n",
       "      <td>0.243750</td>\n",
       "      <td>24.000000</td>\n",
       "      <td>0.000000</td>\n",
       "    </tr>\n",
       "    <tr>\n",
       "      <th>50%</th>\n",
       "      <td>3.000000</td>\n",
       "      <td>117.000000</td>\n",
       "      <td>72.000000</td>\n",
       "      <td>23.000000</td>\n",
       "      <td>30.500000</td>\n",
       "      <td>32.000000</td>\n",
       "      <td>0.372500</td>\n",
       "      <td>29.000000</td>\n",
       "      <td>0.000000</td>\n",
       "    </tr>\n",
       "    <tr>\n",
       "      <th>75%</th>\n",
       "      <td>6.000000</td>\n",
       "      <td>140.250000</td>\n",
       "      <td>80.000000</td>\n",
       "      <td>32.000000</td>\n",
       "      <td>127.250000</td>\n",
       "      <td>36.600000</td>\n",
       "      <td>0.626250</td>\n",
       "      <td>41.000000</td>\n",
       "      <td>1.000000</td>\n",
       "    </tr>\n",
       "    <tr>\n",
       "      <th>max</th>\n",
       "      <td>17.000000</td>\n",
       "      <td>199.000000</td>\n",
       "      <td>122.000000</td>\n",
       "      <td>99.000000</td>\n",
       "      <td>846.000000</td>\n",
       "      <td>67.100000</td>\n",
       "      <td>2.420000</td>\n",
       "      <td>81.000000</td>\n",
       "      <td>1.000000</td>\n",
       "    </tr>\n",
       "  </tbody>\n",
       "</table>\n",
       "</div>"
      ],
      "text/plain": [
       "       Pregnancies     Glucose  BloodPressure  SkinThickness     Insulin  \\\n",
       "count   768.000000  768.000000     768.000000     768.000000  768.000000   \n",
       "mean      3.845052  120.894531      69.105469      20.536458   79.799479   \n",
       "std       3.369578   31.972618      19.355807      15.952218  115.244002   \n",
       "min       0.000000    0.000000       0.000000       0.000000    0.000000   \n",
       "25%       1.000000   99.000000      62.000000       0.000000    0.000000   \n",
       "50%       3.000000  117.000000      72.000000      23.000000   30.500000   \n",
       "75%       6.000000  140.250000      80.000000      32.000000  127.250000   \n",
       "max      17.000000  199.000000     122.000000      99.000000  846.000000   \n",
       "\n",
       "              BMI  DiabetesPedigreeFunction         Age     Outcome  \n",
       "count  768.000000                768.000000  768.000000  768.000000  \n",
       "mean    31.992578                  0.471876   33.240885    0.348958  \n",
       "std      7.884160                  0.331329   11.760232    0.476951  \n",
       "min      0.000000                  0.078000   21.000000    0.000000  \n",
       "25%     27.300000                  0.243750   24.000000    0.000000  \n",
       "50%     32.000000                  0.372500   29.000000    0.000000  \n",
       "75%     36.600000                  0.626250   41.000000    1.000000  \n",
       "max     67.100000                  2.420000   81.000000    1.000000  "
      ]
     },
     "execution_count": 4,
     "metadata": {},
     "output_type": "execute_result"
    }
   ],
   "source": [
    "#data description\n",
    "df.describe()"
   ]
  },
  {
   "cell_type": "code",
   "execution_count": 5,
   "id": "b9917b81",
   "metadata": {
    "execution": {
     "iopub.execute_input": "2022-03-18T06:15:24.269064Z",
     "iopub.status.busy": "2022-03-18T06:15:24.268332Z",
     "iopub.status.idle": "2022-03-18T06:15:24.276159Z",
     "shell.execute_reply": "2022-03-18T06:15:24.275572Z",
     "shell.execute_reply.started": "2022-03-18T05:41:23.048838Z"
    },
    "papermill": {
     "duration": 0.032462,
     "end_time": "2022-03-18T06:15:24.276356",
     "exception": false,
     "start_time": "2022-03-18T06:15:24.243894",
     "status": "completed"
    },
    "tags": []
   },
   "outputs": [
    {
     "data": {
      "text/plain": [
       "0    500\n",
       "1    268\n",
       "Name: Outcome, dtype: int64"
      ]
     },
     "execution_count": 5,
     "metadata": {},
     "output_type": "execute_result"
    }
   ],
   "source": [
    "#outcome value\n",
    "df.Outcome.value_counts()"
   ]
  },
  {
   "cell_type": "markdown",
   "id": "4484a834",
   "metadata": {
    "papermill": {
     "duration": 0.020928,
     "end_time": "2022-03-18T06:15:24.319657",
     "exception": false,
     "start_time": "2022-03-18T06:15:24.298729",
     "status": "completed"
    },
    "tags": []
   },
   "source": [
    "**Interpretation:** It looks like our Outcome column is slightly imbalanced."
   ]
  },
  {
   "cell_type": "code",
   "execution_count": 6,
   "id": "d6b1b0fe",
   "metadata": {
    "execution": {
     "iopub.execute_input": "2022-03-18T06:15:24.367030Z",
     "iopub.status.busy": "2022-03-18T06:15:24.366002Z",
     "iopub.status.idle": "2022-03-18T06:15:24.371761Z",
     "shell.execute_reply": "2022-03-18T06:15:24.372266Z",
     "shell.execute_reply.started": "2022-03-18T05:41:23.479815Z"
    },
    "papermill": {
     "duration": 0.031449,
     "end_time": "2022-03-18T06:15:24.372492",
     "exception": false,
     "start_time": "2022-03-18T06:15:24.341043",
     "status": "completed"
    },
    "tags": []
   },
   "outputs": [],
   "source": [
    "X = df.drop(\"Outcome\", axis='columns')\n",
    "y = df.Outcome"
   ]
  },
  {
   "cell_type": "code",
   "execution_count": 7,
   "id": "34daa482",
   "metadata": {
    "execution": {
     "iopub.execute_input": "2022-03-18T06:15:24.420514Z",
     "iopub.status.busy": "2022-03-18T06:15:24.419040Z",
     "iopub.status.idle": "2022-03-18T06:15:24.422259Z",
     "shell.execute_reply": "2022-03-18T06:15:24.422804Z",
     "shell.execute_reply.started": "2022-03-18T05:41:25.767722Z"
    },
    "papermill": {
     "duration": 0.028601,
     "end_time": "2022-03-18T06:15:24.423005",
     "exception": false,
     "start_time": "2022-03-18T06:15:24.394404",
     "status": "completed"
    },
    "tags": []
   },
   "outputs": [],
   "source": [
    "#use scaling for better results --> here I use standard scaler\n",
    "#from sklearn.preprocessing import StandardScaler\n",
    "\n",
    "#sc = StandardScaler()\n",
    "#X_sc = sc.fit_transform(X)"
   ]
  },
  {
   "cell_type": "code",
   "execution_count": 8,
   "id": "ae5b7065",
   "metadata": {
    "execution": {
     "iopub.execute_input": "2022-03-18T06:15:24.470205Z",
     "iopub.status.busy": "2022-03-18T06:15:24.469170Z",
     "iopub.status.idle": "2022-03-18T06:15:24.472556Z",
     "shell.execute_reply": "2022-03-18T06:15:24.473054Z",
     "shell.execute_reply.started": "2022-03-18T05:41:25.942427Z"
    },
    "papermill": {
     "duration": 0.02878,
     "end_time": "2022-03-18T06:15:24.473262",
     "exception": false,
     "start_time": "2022-03-18T06:15:24.444482",
     "status": "completed"
    },
    "tags": []
   },
   "outputs": [],
   "source": [
    "#view of the scaled value as an array\n",
    "#X_sc[:4]"
   ]
  },
  {
   "cell_type": "code",
   "execution_count": 9,
   "id": "cd59bbea",
   "metadata": {
    "execution": {
     "iopub.execute_input": "2022-03-18T06:15:24.522573Z",
     "iopub.status.busy": "2022-03-18T06:15:24.521770Z",
     "iopub.status.idle": "2022-03-18T06:15:25.795266Z",
     "shell.execute_reply": "2022-03-18T06:15:25.794593Z",
     "shell.execute_reply.started": "2022-03-18T05:41:34.824481Z"
    },
    "papermill": {
     "duration": 1.300629,
     "end_time": "2022-03-18T06:15:25.795445",
     "exception": false,
     "start_time": "2022-03-18T06:15:24.494816",
     "status": "completed"
    },
    "tags": []
   },
   "outputs": [],
   "source": [
    "#split the data set\n",
    "from sklearn.model_selection import train_test_split\n",
    "\n",
    "#using stratify parameter we can handel the imbalanced thing which can affect our prediction result\n",
    "X_train, y_train, X_test, y_test = train_test_split(X, y, stratify=y, random_state=10)"
   ]
  },
  {
   "cell_type": "code",
   "execution_count": 10,
   "id": "bbe4b6f4",
   "metadata": {
    "execution": {
     "iopub.execute_input": "2022-03-18T06:15:25.847922Z",
     "iopub.status.busy": "2022-03-18T06:15:25.847050Z",
     "iopub.status.idle": "2022-03-18T06:15:25.850502Z",
     "shell.execute_reply": "2022-03-18T06:15:25.851006Z",
     "shell.execute_reply.started": "2022-03-18T05:41:36.727740Z"
    },
    "papermill": {
     "duration": 0.032488,
     "end_time": "2022-03-18T06:15:25.851216",
     "exception": false,
     "start_time": "2022-03-18T06:15:25.818728",
     "status": "completed"
    },
    "tags": []
   },
   "outputs": [
    {
     "data": {
      "text/plain": [
       "(576, 8)"
      ]
     },
     "execution_count": 10,
     "metadata": {},
     "output_type": "execute_result"
    }
   ],
   "source": [
    "X_train.shape"
   ]
  },
  {
   "cell_type": "code",
   "execution_count": 11,
   "id": "b7a0c614",
   "metadata": {
    "execution": {
     "iopub.execute_input": "2022-03-18T06:15:25.901128Z",
     "iopub.status.busy": "2022-03-18T06:15:25.900365Z",
     "iopub.status.idle": "2022-03-18T06:15:25.906042Z",
     "shell.execute_reply": "2022-03-18T06:15:25.906712Z",
     "shell.execute_reply.started": "2022-03-18T05:41:37.736893Z"
    },
    "papermill": {
     "duration": 0.032636,
     "end_time": "2022-03-18T06:15:25.906914",
     "exception": false,
     "start_time": "2022-03-18T06:15:25.874278",
     "status": "completed"
    },
    "tags": []
   },
   "outputs": [
    {
     "data": {
      "text/plain": [
       "(576,)"
      ]
     },
     "execution_count": 11,
     "metadata": {},
     "output_type": "execute_result"
    }
   ],
   "source": [
    "X_test.shape"
   ]
  },
  {
   "cell_type": "code",
   "execution_count": 12,
   "id": "ea29b281",
   "metadata": {
    "execution": {
     "iopub.execute_input": "2022-03-18T06:15:25.956608Z",
     "iopub.status.busy": "2022-03-18T06:15:25.955790Z",
     "iopub.status.idle": "2022-03-18T06:15:25.960996Z",
     "shell.execute_reply": "2022-03-18T06:15:25.961647Z",
     "shell.execute_reply.started": "2022-03-18T05:41:37.927617Z"
    },
    "papermill": {
     "duration": 0.032373,
     "end_time": "2022-03-18T06:15:25.961847",
     "exception": false,
     "start_time": "2022-03-18T06:15:25.929474",
     "status": "completed"
    },
    "tags": []
   },
   "outputs": [
    {
     "data": {
      "text/plain": [
       "(192, 8)"
      ]
     },
     "execution_count": 12,
     "metadata": {},
     "output_type": "execute_result"
    }
   ],
   "source": [
    "y_train.shape"
   ]
  },
  {
   "cell_type": "code",
   "execution_count": 13,
   "id": "d709eb7a",
   "metadata": {
    "execution": {
     "iopub.execute_input": "2022-03-18T06:15:26.013667Z",
     "iopub.status.busy": "2022-03-18T06:15:26.012968Z",
     "iopub.status.idle": "2022-03-18T06:15:26.016873Z",
     "shell.execute_reply": "2022-03-18T06:15:26.016322Z",
     "shell.execute_reply.started": "2022-03-18T05:41:38.711245Z"
    },
    "papermill": {
     "duration": 0.032358,
     "end_time": "2022-03-18T06:15:26.017035",
     "exception": false,
     "start_time": "2022-03-18T06:15:25.984677",
     "status": "completed"
    },
    "tags": []
   },
   "outputs": [
    {
     "data": {
      "text/plain": [
       "(192,)"
      ]
     },
     "execution_count": 13,
     "metadata": {},
     "output_type": "execute_result"
    }
   ],
   "source": [
    "y_test.shape"
   ]
  },
  {
   "cell_type": "code",
   "execution_count": 14,
   "id": "e9cb0a72",
   "metadata": {
    "execution": {
     "iopub.execute_input": "2022-03-18T06:15:26.071746Z",
     "iopub.status.busy": "2022-03-18T06:15:26.070946Z",
     "iopub.status.idle": "2022-03-18T06:15:26.293009Z",
     "shell.execute_reply": "2022-03-18T06:15:26.291999Z",
     "shell.execute_reply.started": "2022-03-18T05:41:38.903758Z"
    },
    "papermill": {
     "duration": 0.253036,
     "end_time": "2022-03-18T06:15:26.293250",
     "exception": false,
     "start_time": "2022-03-18T06:15:26.040214",
     "status": "completed"
    },
    "tags": []
   },
   "outputs": [
    {
     "name": "stdout",
     "output_type": "stream",
     "text": [
      "Different Scores for Cross Validation with 5 Folds:  [0.72077922 0.68181818 0.71428571 0.80392157 0.71895425]\n",
      "Mean Score is:  0.7279517867753162\n"
     ]
    }
   ],
   "source": [
    "#check the different scores applying Decision Tree with CrossValidation\n",
    "from sklearn.tree import DecisionTreeClassifier\n",
    "from sklearn.model_selection import cross_val_score\n",
    "\n",
    "scores = cross_val_score(DecisionTreeClassifier(), X, y, cv=5) # This is a standalone Decision Tree trained score\n",
    "print(\"Different Scores for Cross Validation with 5 Folds: \", scores)\n",
    "print(\"Mean Score is: \", scores.mean())"
   ]
  },
  {
   "cell_type": "code",
   "execution_count": 15,
   "id": "182d0661",
   "metadata": {
    "execution": {
     "iopub.execute_input": "2022-03-18T06:15:26.348799Z",
     "iopub.status.busy": "2022-03-18T06:15:26.348072Z",
     "iopub.status.idle": "2022-03-18T06:15:26.352642Z",
     "shell.execute_reply": "2022-03-18T06:15:26.351934Z",
     "shell.execute_reply.started": "2022-03-18T06:12:05.696150Z"
    },
    "papermill": {
     "duration": 0.035087,
     "end_time": "2022-03-18T06:15:26.352807",
     "exception": false,
     "start_time": "2022-03-18T06:15:26.317720",
     "status": "completed"
    },
    "tags": []
   },
   "outputs": [
    {
     "data": {
      "text/plain": [
       "'\\n# apply bagging techniques\\nfrom sklearn.ensemble import BaggingClassifier\\n\\nbagging_model = BaggingClassifier(base_estimator=DecisionTreeClassifier(),\\n                                 n_estimators=100, # 100 model or 100 subset\\n                                 max_samples=0.8, # we use 80 percent sample\\n                                 random_state=42,\\n                                 oob_score=True)\\n\\nbagging_model.fit(X_train, y_train)\\nbagging_model.oob_score_\\n'"
      ]
     },
     "execution_count": 15,
     "metadata": {},
     "output_type": "execute_result"
    }
   ],
   "source": [
    "'''\n",
    "# apply bagging techniques\n",
    "from sklearn.ensemble import BaggingClassifier\n",
    "\n",
    "bagging_model = BaggingClassifier(base_estimator=DecisionTreeClassifier(),\n",
    "                                 n_estimators=100, # 100 model or 100 subset\n",
    "                                 max_samples=0.8, # we use 80 percent sample\n",
    "                                 random_state=42,\n",
    "                                 oob_score=True)\n",
    "\n",
    "bagging_model.fit(X_train, y_train)\n",
    "bagging_model.oob_score_\n",
    "'''"
   ]
  },
  {
   "cell_type": "code",
   "execution_count": 16,
   "id": "f410aa39",
   "metadata": {
    "execution": {
     "iopub.execute_input": "2022-03-18T06:15:26.408223Z",
     "iopub.status.busy": "2022-03-18T06:15:26.407020Z",
     "iopub.status.idle": "2022-03-18T06:15:27.089611Z",
     "shell.execute_reply": "2022-03-18T06:15:27.088850Z",
     "shell.execute_reply.started": "2022-03-18T06:10:48.340997Z"
    },
    "papermill": {
     "duration": 0.712916,
     "end_time": "2022-03-18T06:15:27.089778",
     "exception": false,
     "start_time": "2022-03-18T06:15:26.376862",
     "status": "completed"
    },
    "tags": []
   },
   "outputs": [
    {
     "data": {
      "text/plain": [
       "array([0.76623377, 0.74675325, 0.75324675, 0.81045752, 0.75163399])"
      ]
     },
     "execution_count": 16,
     "metadata": {},
     "output_type": "execute_result"
    }
   ],
   "source": [
    "#check the different scores applying Random Forest with CrossValidation\n",
    "from sklearn.ensemble import RandomForestClassifier\n",
    "\n",
    "scores = cross_val_score(RandomForestClassifier(n_estimators=50), X, y, cv=5)\n",
    "scores"
   ]
  },
  {
   "cell_type": "code",
   "execution_count": 17,
   "id": "030f5b96",
   "metadata": {
    "execution": {
     "iopub.execute_input": "2022-03-18T06:15:27.147372Z",
     "iopub.status.busy": "2022-03-18T06:15:27.146678Z",
     "iopub.status.idle": "2022-03-18T06:15:27.151040Z",
     "shell.execute_reply": "2022-03-18T06:15:27.150510Z",
     "shell.execute_reply.started": "2022-03-18T06:10:56.911767Z"
    },
    "papermill": {
     "duration": 0.036681,
     "end_time": "2022-03-18T06:15:27.151227",
     "exception": false,
     "start_time": "2022-03-18T06:15:27.114546",
     "status": "completed"
    },
    "tags": []
   },
   "outputs": [
    {
     "data": {
      "text/plain": [
       "0.7656650539003481"
      ]
     },
     "execution_count": 17,
     "metadata": {},
     "output_type": "execute_result"
    }
   ],
   "source": [
    "scores.mean()"
   ]
  }
 ],
 "metadata": {
  "kernelspec": {
   "display_name": "Python 3",
   "language": "python",
   "name": "python3"
  },
  "language_info": {
   "codemirror_mode": {
    "name": "ipython",
    "version": 3
   },
   "file_extension": ".py",
   "mimetype": "text/x-python",
   "name": "python",
   "nbconvert_exporter": "python",
   "pygments_lexer": "ipython3",
   "version": "3.7.12"
  },
  "papermill": {
   "default_parameters": {},
   "duration": 15.452717,
   "end_time": "2022-03-18T06:15:28.290565",
   "environment_variables": {},
   "exception": null,
   "input_path": "__notebook__.ipynb",
   "output_path": "__notebook__.ipynb",
   "parameters": {},
   "start_time": "2022-03-18T06:15:12.837848",
   "version": "2.3.3"
  }
 },
 "nbformat": 4,
 "nbformat_minor": 5
}
