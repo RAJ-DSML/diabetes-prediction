{
 "cells": [
  {
   "cell_type": "code",
   "execution_count": 1,
   "id": "23249e41",
   "metadata": {
    "_cell_guid": "b1076dfc-b9ad-4769-8c92-a6c4dae69d19",
    "_uuid": "8f2839f25d086af736a60e9eeb907d3b93b6e0e5",
    "execution": {
     "iopub.execute_input": "2022-03-18T05:20:28.392305Z",
     "iopub.status.busy": "2022-03-18T05:20:28.390293Z",
     "iopub.status.idle": "2022-03-18T05:20:28.408721Z",
     "shell.execute_reply": "2022-03-18T05:20:28.409255Z",
     "shell.execute_reply.started": "2022-03-18T04:50:06.742783Z"
    },
    "papermill": {
     "duration": 0.041849,
     "end_time": "2022-03-18T05:20:28.409541",
     "exception": false,
     "start_time": "2022-03-18T05:20:28.367692",
     "status": "completed"
    },
    "tags": []
   },
   "outputs": [
    {
     "name": "stdout",
     "output_type": "stream",
     "text": [
      "/kaggle/input/pima-indians-diabetes-database/diabetes.csv\n"
     ]
    }
   ],
   "source": [
    "# This Python 3 environment comes with many helpful analytics libraries installed\n",
    "# It is defined by the kaggle/python Docker image: https://github.com/kaggle/docker-python\n",
    "# For example, here's several helpful packages to load\n",
    "\n",
    "import numpy as np # linear algebra\n",
    "import pandas as pd # data processing, CSV file I/O (e.g. pd.read_csv)\n",
    "\n",
    "# Input data files are available in the read-only \"../input/\" directory\n",
    "# For example, running this (by clicking run or pressing Shift+Enter) will list all files under the input directory\n",
    "\n",
    "import os\n",
    "for dirname, _, filenames in os.walk('/kaggle/input'):\n",
    "    for filename in filenames:\n",
    "        print(os.path.join(dirname, filename))\n",
    "\n",
    "# You can write up to 20GB to the current directory (/kaggle/working/) that gets preserved as output when you create a version using \"Save & Run All\" \n",
    "# You can also write temporary files to /kaggle/temp/, but they won't be saved outside of the current session"
   ]
  },
  {
   "cell_type": "code",
   "execution_count": 2,
   "id": "cbd555be",
   "metadata": {
    "execution": {
     "iopub.execute_input": "2022-03-18T05:20:28.449940Z",
     "iopub.status.busy": "2022-03-18T05:20:28.449233Z",
     "iopub.status.idle": "2022-03-18T05:20:28.482535Z",
     "shell.execute_reply": "2022-03-18T05:20:28.481889Z",
     "shell.execute_reply.started": "2022-03-18T04:50:30.215931Z"
    },
    "papermill": {
     "duration": 0.053528,
     "end_time": "2022-03-18T05:20:28.482692",
     "exception": false,
     "start_time": "2022-03-18T05:20:28.429164",
     "status": "completed"
    },
    "tags": []
   },
   "outputs": [
    {
     "data": {
      "text/html": [
       "<div>\n",
       "<style scoped>\n",
       "    .dataframe tbody tr th:only-of-type {\n",
       "        vertical-align: middle;\n",
       "    }\n",
       "\n",
       "    .dataframe tbody tr th {\n",
       "        vertical-align: top;\n",
       "    }\n",
       "\n",
       "    .dataframe thead th {\n",
       "        text-align: right;\n",
       "    }\n",
       "</style>\n",
       "<table border=\"1\" class=\"dataframe\">\n",
       "  <thead>\n",
       "    <tr style=\"text-align: right;\">\n",
       "      <th></th>\n",
       "      <th>Pregnancies</th>\n",
       "      <th>Glucose</th>\n",
       "      <th>BloodPressure</th>\n",
       "      <th>SkinThickness</th>\n",
       "      <th>Insulin</th>\n",
       "      <th>BMI</th>\n",
       "      <th>DiabetesPedigreeFunction</th>\n",
       "      <th>Age</th>\n",
       "      <th>Outcome</th>\n",
       "    </tr>\n",
       "  </thead>\n",
       "  <tbody>\n",
       "    <tr>\n",
       "      <th>0</th>\n",
       "      <td>6</td>\n",
       "      <td>148</td>\n",
       "      <td>72</td>\n",
       "      <td>35</td>\n",
       "      <td>0</td>\n",
       "      <td>33.6</td>\n",
       "      <td>0.627</td>\n",
       "      <td>50</td>\n",
       "      <td>1</td>\n",
       "    </tr>\n",
       "    <tr>\n",
       "      <th>1</th>\n",
       "      <td>1</td>\n",
       "      <td>85</td>\n",
       "      <td>66</td>\n",
       "      <td>29</td>\n",
       "      <td>0</td>\n",
       "      <td>26.6</td>\n",
       "      <td>0.351</td>\n",
       "      <td>31</td>\n",
       "      <td>0</td>\n",
       "    </tr>\n",
       "    <tr>\n",
       "      <th>2</th>\n",
       "      <td>8</td>\n",
       "      <td>183</td>\n",
       "      <td>64</td>\n",
       "      <td>0</td>\n",
       "      <td>0</td>\n",
       "      <td>23.3</td>\n",
       "      <td>0.672</td>\n",
       "      <td>32</td>\n",
       "      <td>1</td>\n",
       "    </tr>\n",
       "    <tr>\n",
       "      <th>3</th>\n",
       "      <td>1</td>\n",
       "      <td>89</td>\n",
       "      <td>66</td>\n",
       "      <td>23</td>\n",
       "      <td>94</td>\n",
       "      <td>28.1</td>\n",
       "      <td>0.167</td>\n",
       "      <td>21</td>\n",
       "      <td>0</td>\n",
       "    </tr>\n",
       "    <tr>\n",
       "      <th>4</th>\n",
       "      <td>0</td>\n",
       "      <td>137</td>\n",
       "      <td>40</td>\n",
       "      <td>35</td>\n",
       "      <td>168</td>\n",
       "      <td>43.1</td>\n",
       "      <td>2.288</td>\n",
       "      <td>33</td>\n",
       "      <td>1</td>\n",
       "    </tr>\n",
       "  </tbody>\n",
       "</table>\n",
       "</div>"
      ],
      "text/plain": [
       "   Pregnancies  Glucose  BloodPressure  SkinThickness  Insulin   BMI  \\\n",
       "0            6      148             72             35        0  33.6   \n",
       "1            1       85             66             29        0  26.6   \n",
       "2            8      183             64              0        0  23.3   \n",
       "3            1       89             66             23       94  28.1   \n",
       "4            0      137             40             35      168  43.1   \n",
       "\n",
       "   DiabetesPedigreeFunction  Age  Outcome  \n",
       "0                     0.627   50        1  \n",
       "1                     0.351   31        0  \n",
       "2                     0.672   32        1  \n",
       "3                     0.167   21        0  \n",
       "4                     2.288   33        1  "
      ]
     },
     "execution_count": 2,
     "metadata": {},
     "output_type": "execute_result"
    }
   ],
   "source": [
    "df = pd.read_csv('../input/pima-indians-diabetes-database/diabetes.csv')\n",
    "df.head()"
   ]
  },
  {
   "cell_type": "code",
   "execution_count": 3,
   "id": "143f02ea",
   "metadata": {
    "execution": {
     "iopub.execute_input": "2022-03-18T05:20:28.521190Z",
     "iopub.status.busy": "2022-03-18T05:20:28.520533Z",
     "iopub.status.idle": "2022-03-18T05:20:28.527366Z",
     "shell.execute_reply": "2022-03-18T05:20:28.527941Z",
     "shell.execute_reply.started": "2022-03-18T04:52:28.704787Z"
    },
    "papermill": {
     "duration": 0.027733,
     "end_time": "2022-03-18T05:20:28.528113",
     "exception": false,
     "start_time": "2022-03-18T05:20:28.500380",
     "status": "completed"
    },
    "tags": []
   },
   "outputs": [
    {
     "data": {
      "text/plain": [
       "Pregnancies                 0\n",
       "Glucose                     0\n",
       "BloodPressure               0\n",
       "SkinThickness               0\n",
       "Insulin                     0\n",
       "BMI                         0\n",
       "DiabetesPedigreeFunction    0\n",
       "Age                         0\n",
       "Outcome                     0\n",
       "dtype: int64"
      ]
     },
     "execution_count": 3,
     "metadata": {},
     "output_type": "execute_result"
    }
   ],
   "source": [
    "#check the null value\n",
    "df.isnull().sum()"
   ]
  },
  {
   "cell_type": "code",
   "execution_count": 4,
   "id": "76f5a5da",
   "metadata": {
    "execution": {
     "iopub.execute_input": "2022-03-18T05:20:28.567678Z",
     "iopub.status.busy": "2022-03-18T05:20:28.567032Z",
     "iopub.status.idle": "2022-03-18T05:20:28.613541Z",
     "shell.execute_reply": "2022-03-18T05:20:28.613047Z",
     "shell.execute_reply.started": "2022-03-18T04:54:06.549333Z"
    },
    "papermill": {
     "duration": 0.067656,
     "end_time": "2022-03-18T05:20:28.613697",
     "exception": false,
     "start_time": "2022-03-18T05:20:28.546041",
     "status": "completed"
    },
    "tags": []
   },
   "outputs": [
    {
     "data": {
      "text/html": [
       "<div>\n",
       "<style scoped>\n",
       "    .dataframe tbody tr th:only-of-type {\n",
       "        vertical-align: middle;\n",
       "    }\n",
       "\n",
       "    .dataframe tbody tr th {\n",
       "        vertical-align: top;\n",
       "    }\n",
       "\n",
       "    .dataframe thead th {\n",
       "        text-align: right;\n",
       "    }\n",
       "</style>\n",
       "<table border=\"1\" class=\"dataframe\">\n",
       "  <thead>\n",
       "    <tr style=\"text-align: right;\">\n",
       "      <th></th>\n",
       "      <th>Pregnancies</th>\n",
       "      <th>Glucose</th>\n",
       "      <th>BloodPressure</th>\n",
       "      <th>SkinThickness</th>\n",
       "      <th>Insulin</th>\n",
       "      <th>BMI</th>\n",
       "      <th>DiabetesPedigreeFunction</th>\n",
       "      <th>Age</th>\n",
       "      <th>Outcome</th>\n",
       "    </tr>\n",
       "  </thead>\n",
       "  <tbody>\n",
       "    <tr>\n",
       "      <th>count</th>\n",
       "      <td>768.000000</td>\n",
       "      <td>768.000000</td>\n",
       "      <td>768.000000</td>\n",
       "      <td>768.000000</td>\n",
       "      <td>768.000000</td>\n",
       "      <td>768.000000</td>\n",
       "      <td>768.000000</td>\n",
       "      <td>768.000000</td>\n",
       "      <td>768.000000</td>\n",
       "    </tr>\n",
       "    <tr>\n",
       "      <th>mean</th>\n",
       "      <td>3.845052</td>\n",
       "      <td>120.894531</td>\n",
       "      <td>69.105469</td>\n",
       "      <td>20.536458</td>\n",
       "      <td>79.799479</td>\n",
       "      <td>31.992578</td>\n",
       "      <td>0.471876</td>\n",
       "      <td>33.240885</td>\n",
       "      <td>0.348958</td>\n",
       "    </tr>\n",
       "    <tr>\n",
       "      <th>std</th>\n",
       "      <td>3.369578</td>\n",
       "      <td>31.972618</td>\n",
       "      <td>19.355807</td>\n",
       "      <td>15.952218</td>\n",
       "      <td>115.244002</td>\n",
       "      <td>7.884160</td>\n",
       "      <td>0.331329</td>\n",
       "      <td>11.760232</td>\n",
       "      <td>0.476951</td>\n",
       "    </tr>\n",
       "    <tr>\n",
       "      <th>min</th>\n",
       "      <td>0.000000</td>\n",
       "      <td>0.000000</td>\n",
       "      <td>0.000000</td>\n",
       "      <td>0.000000</td>\n",
       "      <td>0.000000</td>\n",
       "      <td>0.000000</td>\n",
       "      <td>0.078000</td>\n",
       "      <td>21.000000</td>\n",
       "      <td>0.000000</td>\n",
       "    </tr>\n",
       "    <tr>\n",
       "      <th>25%</th>\n",
       "      <td>1.000000</td>\n",
       "      <td>99.000000</td>\n",
       "      <td>62.000000</td>\n",
       "      <td>0.000000</td>\n",
       "      <td>0.000000</td>\n",
       "      <td>27.300000</td>\n",
       "      <td>0.243750</td>\n",
       "      <td>24.000000</td>\n",
       "      <td>0.000000</td>\n",
       "    </tr>\n",
       "    <tr>\n",
       "      <th>50%</th>\n",
       "      <td>3.000000</td>\n",
       "      <td>117.000000</td>\n",
       "      <td>72.000000</td>\n",
       "      <td>23.000000</td>\n",
       "      <td>30.500000</td>\n",
       "      <td>32.000000</td>\n",
       "      <td>0.372500</td>\n",
       "      <td>29.000000</td>\n",
       "      <td>0.000000</td>\n",
       "    </tr>\n",
       "    <tr>\n",
       "      <th>75%</th>\n",
       "      <td>6.000000</td>\n",
       "      <td>140.250000</td>\n",
       "      <td>80.000000</td>\n",
       "      <td>32.000000</td>\n",
       "      <td>127.250000</td>\n",
       "      <td>36.600000</td>\n",
       "      <td>0.626250</td>\n",
       "      <td>41.000000</td>\n",
       "      <td>1.000000</td>\n",
       "    </tr>\n",
       "    <tr>\n",
       "      <th>max</th>\n",
       "      <td>17.000000</td>\n",
       "      <td>199.000000</td>\n",
       "      <td>122.000000</td>\n",
       "      <td>99.000000</td>\n",
       "      <td>846.000000</td>\n",
       "      <td>67.100000</td>\n",
       "      <td>2.420000</td>\n",
       "      <td>81.000000</td>\n",
       "      <td>1.000000</td>\n",
       "    </tr>\n",
       "  </tbody>\n",
       "</table>\n",
       "</div>"
      ],
      "text/plain": [
       "       Pregnancies     Glucose  BloodPressure  SkinThickness     Insulin  \\\n",
       "count   768.000000  768.000000     768.000000     768.000000  768.000000   \n",
       "mean      3.845052  120.894531      69.105469      20.536458   79.799479   \n",
       "std       3.369578   31.972618      19.355807      15.952218  115.244002   \n",
       "min       0.000000    0.000000       0.000000       0.000000    0.000000   \n",
       "25%       1.000000   99.000000      62.000000       0.000000    0.000000   \n",
       "50%       3.000000  117.000000      72.000000      23.000000   30.500000   \n",
       "75%       6.000000  140.250000      80.000000      32.000000  127.250000   \n",
       "max      17.000000  199.000000     122.000000      99.000000  846.000000   \n",
       "\n",
       "              BMI  DiabetesPedigreeFunction         Age     Outcome  \n",
       "count  768.000000                768.000000  768.000000  768.000000  \n",
       "mean    31.992578                  0.471876   33.240885    0.348958  \n",
       "std      7.884160                  0.331329   11.760232    0.476951  \n",
       "min      0.000000                  0.078000   21.000000    0.000000  \n",
       "25%     27.300000                  0.243750   24.000000    0.000000  \n",
       "50%     32.000000                  0.372500   29.000000    0.000000  \n",
       "75%     36.600000                  0.626250   41.000000    1.000000  \n",
       "max     67.100000                  2.420000   81.000000    1.000000  "
      ]
     },
     "execution_count": 4,
     "metadata": {},
     "output_type": "execute_result"
    }
   ],
   "source": [
    "#data description\n",
    "df.describe()"
   ]
  },
  {
   "cell_type": "code",
   "execution_count": 5,
   "id": "6c8b5393",
   "metadata": {
    "execution": {
     "iopub.execute_input": "2022-03-18T05:20:28.653881Z",
     "iopub.status.busy": "2022-03-18T05:20:28.653252Z",
     "iopub.status.idle": "2022-03-18T05:20:28.660176Z",
     "shell.execute_reply": "2022-03-18T05:20:28.660754Z",
     "shell.execute_reply.started": "2022-03-18T04:56:56.242424Z"
    },
    "papermill": {
     "duration": 0.028662,
     "end_time": "2022-03-18T05:20:28.660974",
     "exception": false,
     "start_time": "2022-03-18T05:20:28.632312",
     "status": "completed"
    },
    "tags": []
   },
   "outputs": [
    {
     "data": {
      "text/plain": [
       "0    500\n",
       "1    268\n",
       "Name: Outcome, dtype: int64"
      ]
     },
     "execution_count": 5,
     "metadata": {},
     "output_type": "execute_result"
    }
   ],
   "source": [
    "#outcome value\n",
    "df.Outcome.value_counts()"
   ]
  },
  {
   "cell_type": "markdown",
   "id": "137c572e",
   "metadata": {
    "papermill": {
     "duration": 0.018623,
     "end_time": "2022-03-18T05:20:28.698832",
     "exception": false,
     "start_time": "2022-03-18T05:20:28.680209",
     "status": "completed"
    },
    "tags": []
   },
   "source": [
    "**Interpretation:** It looks like our Outcome column is slightly imbalanced."
   ]
  },
  {
   "cell_type": "code",
   "execution_count": 6,
   "id": "a2816d70",
   "metadata": {
    "execution": {
     "iopub.execute_input": "2022-03-18T05:20:28.739734Z",
     "iopub.status.busy": "2022-03-18T05:20:28.739044Z",
     "iopub.status.idle": "2022-03-18T05:20:28.743736Z",
     "shell.execute_reply": "2022-03-18T05:20:28.744264Z",
     "shell.execute_reply.started": "2022-03-18T04:59:27.828137Z"
    },
    "papermill": {
     "duration": 0.02675,
     "end_time": "2022-03-18T05:20:28.744554",
     "exception": false,
     "start_time": "2022-03-18T05:20:28.717804",
     "status": "completed"
    },
    "tags": []
   },
   "outputs": [],
   "source": [
    "X = df.drop(\"Outcome\", axis='columns')\n",
    "y = df.Outcome"
   ]
  },
  {
   "cell_type": "code",
   "execution_count": 7,
   "id": "5cfe5770",
   "metadata": {
    "execution": {
     "iopub.execute_input": "2022-03-18T05:20:28.787368Z",
     "iopub.status.busy": "2022-03-18T05:20:28.786716Z",
     "iopub.status.idle": "2022-03-18T05:20:29.954926Z",
     "shell.execute_reply": "2022-03-18T05:20:29.954354Z",
     "shell.execute_reply.started": "2022-03-18T05:01:44.661538Z"
    },
    "papermill": {
     "duration": 1.191269,
     "end_time": "2022-03-18T05:20:29.955075",
     "exception": false,
     "start_time": "2022-03-18T05:20:28.763806",
     "status": "completed"
    },
    "tags": []
   },
   "outputs": [],
   "source": [
    "#use scaling for better results --> here I use standard scaler\n",
    "from sklearn.preprocessing import StandardScaler\n",
    "\n",
    "sc = StandardScaler()\n",
    "X_sc = sc.fit_transform(X)"
   ]
  },
  {
   "cell_type": "code",
   "execution_count": 8,
   "id": "26ffd9c4",
   "metadata": {
    "execution": {
     "iopub.execute_input": "2022-03-18T05:20:30.002798Z",
     "iopub.status.busy": "2022-03-18T05:20:30.001919Z",
     "iopub.status.idle": "2022-03-18T05:20:30.005872Z",
     "shell.execute_reply": "2022-03-18T05:20:30.005304Z",
     "shell.execute_reply.started": "2022-03-18T05:02:30.852484Z"
    },
    "papermill": {
     "duration": 0.028905,
     "end_time": "2022-03-18T05:20:30.006018",
     "exception": false,
     "start_time": "2022-03-18T05:20:29.977113",
     "status": "completed"
    },
    "tags": []
   },
   "outputs": [
    {
     "data": {
      "text/plain": [
       "array([[ 0.63994726,  0.84832379,  0.14964075,  0.90726993, -0.69289057,\n",
       "         0.20401277,  0.46849198,  1.4259954 ],\n",
       "       [-0.84488505, -1.12339636, -0.16054575,  0.53090156, -0.69289057,\n",
       "        -0.68442195, -0.36506078, -0.19067191],\n",
       "       [ 1.23388019,  1.94372388, -0.26394125, -1.28821221, -0.69289057,\n",
       "        -1.10325546,  0.60439732, -0.10558415],\n",
       "       [-0.84488505, -0.99820778, -0.16054575,  0.15453319,  0.12330164,\n",
       "        -0.49404308, -0.92076261, -1.04154944]])"
      ]
     },
     "execution_count": 8,
     "metadata": {},
     "output_type": "execute_result"
    }
   ],
   "source": [
    "#view of the scaled value as an array\n",
    "X_sc[:4]"
   ]
  },
  {
   "cell_type": "code",
   "execution_count": 9,
   "id": "3a010206",
   "metadata": {
    "execution": {
     "iopub.execute_input": "2022-03-18T05:20:30.051289Z",
     "iopub.status.busy": "2022-03-18T05:20:30.050487Z",
     "iopub.status.idle": "2022-03-18T05:20:30.114344Z",
     "shell.execute_reply": "2022-03-18T05:20:30.113697Z",
     "shell.execute_reply.started": "2022-03-18T05:09:25.929789Z"
    },
    "papermill": {
     "duration": 0.089038,
     "end_time": "2022-03-18T05:20:30.114486",
     "exception": false,
     "start_time": "2022-03-18T05:20:30.025448",
     "status": "completed"
    },
    "tags": []
   },
   "outputs": [],
   "source": [
    "#split the data set\n",
    "from sklearn.model_selection import train_test_split\n",
    "\n",
    "#using stratify parameter we can handel the imbalanced thing which can affect our prediction result\n",
    "X_train, y_train, X_test, y_test = train_test_split(X_sc, y, stratify=y, random_state=42)"
   ]
  },
  {
   "cell_type": "code",
   "execution_count": 10,
   "id": "ce34197b",
   "metadata": {
    "execution": {
     "iopub.execute_input": "2022-03-18T05:20:30.159692Z",
     "iopub.status.busy": "2022-03-18T05:20:30.158971Z",
     "iopub.status.idle": "2022-03-18T05:20:30.162228Z",
     "shell.execute_reply": "2022-03-18T05:20:30.162765Z",
     "shell.execute_reply.started": "2022-03-18T05:10:05.305332Z"
    },
    "papermill": {
     "duration": 0.028854,
     "end_time": "2022-03-18T05:20:30.162934",
     "exception": false,
     "start_time": "2022-03-18T05:20:30.134080",
     "status": "completed"
    },
    "tags": []
   },
   "outputs": [
    {
     "data": {
      "text/plain": [
       "(576, 8)"
      ]
     },
     "execution_count": 10,
     "metadata": {},
     "output_type": "execute_result"
    }
   ],
   "source": [
    "X_train.shape"
   ]
  },
  {
   "cell_type": "code",
   "execution_count": 11,
   "id": "554e7998",
   "metadata": {
    "execution": {
     "iopub.execute_input": "2022-03-18T05:20:30.206642Z",
     "iopub.status.busy": "2022-03-18T05:20:30.205937Z",
     "iopub.status.idle": "2022-03-18T05:20:30.211035Z",
     "shell.execute_reply": "2022-03-18T05:20:30.211503Z",
     "shell.execute_reply.started": "2022-03-18T05:10:18.837703Z"
    },
    "papermill": {
     "duration": 0.029034,
     "end_time": "2022-03-18T05:20:30.211708",
     "exception": false,
     "start_time": "2022-03-18T05:20:30.182674",
     "status": "completed"
    },
    "tags": []
   },
   "outputs": [
    {
     "data": {
      "text/plain": [
       "(576,)"
      ]
     },
     "execution_count": 11,
     "metadata": {},
     "output_type": "execute_result"
    }
   ],
   "source": [
    "X_test.shape"
   ]
  },
  {
   "cell_type": "code",
   "execution_count": 12,
   "id": "bd1c77aa",
   "metadata": {
    "execution": {
     "iopub.execute_input": "2022-03-18T05:20:30.255980Z",
     "iopub.status.busy": "2022-03-18T05:20:30.255288Z",
     "iopub.status.idle": "2022-03-18T05:20:30.260060Z",
     "shell.execute_reply": "2022-03-18T05:20:30.260853Z",
     "shell.execute_reply.started": "2022-03-18T05:10:10.214224Z"
    },
    "papermill": {
     "duration": 0.029077,
     "end_time": "2022-03-18T05:20:30.261042",
     "exception": false,
     "start_time": "2022-03-18T05:20:30.231965",
     "status": "completed"
    },
    "tags": []
   },
   "outputs": [
    {
     "data": {
      "text/plain": [
       "(192, 8)"
      ]
     },
     "execution_count": 12,
     "metadata": {},
     "output_type": "execute_result"
    }
   ],
   "source": [
    "y_train.shape"
   ]
  },
  {
   "cell_type": "code",
   "execution_count": 13,
   "id": "4787eb05",
   "metadata": {
    "execution": {
     "iopub.execute_input": "2022-03-18T05:20:30.309469Z",
     "iopub.status.busy": "2022-03-18T05:20:30.308825Z",
     "iopub.status.idle": "2022-03-18T05:20:30.311358Z",
     "shell.execute_reply": "2022-03-18T05:20:30.311867Z",
     "shell.execute_reply.started": "2022-03-18T05:10:40.296072Z"
    },
    "papermill": {
     "duration": 0.029265,
     "end_time": "2022-03-18T05:20:30.312030",
     "exception": false,
     "start_time": "2022-03-18T05:20:30.282765",
     "status": "completed"
    },
    "tags": []
   },
   "outputs": [
    {
     "data": {
      "text/plain": [
       "(192,)"
      ]
     },
     "execution_count": 13,
     "metadata": {},
     "output_type": "execute_result"
    }
   ],
   "source": [
    "y_test.shape"
   ]
  },
  {
   "cell_type": "code",
   "execution_count": 14,
   "id": "cdd52202",
   "metadata": {
    "execution": {
     "iopub.execute_input": "2022-03-18T05:20:30.358577Z",
     "iopub.status.busy": "2022-03-18T05:20:30.357912Z",
     "iopub.status.idle": "2022-03-18T05:20:30.575804Z",
     "shell.execute_reply": "2022-03-18T05:20:30.576773Z",
     "shell.execute_reply.started": "2022-03-18T05:19:44.564999Z"
    },
    "papermill": {
     "duration": 0.244018,
     "end_time": "2022-03-18T05:20:30.576986",
     "exception": false,
     "start_time": "2022-03-18T05:20:30.332968",
     "status": "completed"
    },
    "tags": []
   },
   "outputs": [
    {
     "name": "stdout",
     "output_type": "stream",
     "text": [
      "Different Scores for Cross Validation with 5 Folds:  [0.7012987  0.66883117 0.68831169 0.77124183 0.69934641]\n",
      "Mean Score is:  0.7058059587471351\n"
     ]
    }
   ],
   "source": [
    "#check the different scores applying Decision Tree with CrossValidation\n",
    "from sklearn.tree import DecisionTreeClassifier\n",
    "from sklearn.model_selection import cross_val_score\n",
    "\n",
    "scores = cross_val_score(DecisionTreeClassifier(), X, y, cv=5)\n",
    "print(\"Different Scores for Cross Validation with 5 Folds: \", scores)\n",
    "print(\"Mean Score is: \", scores.mean())"
   ]
  },
  {
   "cell_type": "code",
   "execution_count": null,
   "id": "995bb866",
   "metadata": {
    "papermill": {
     "duration": 0.020916,
     "end_time": "2022-03-18T05:20:30.619798",
     "exception": false,
     "start_time": "2022-03-18T05:20:30.598882",
     "status": "completed"
    },
    "tags": []
   },
   "outputs": [],
   "source": []
  }
 ],
 "metadata": {
  "kernelspec": {
   "display_name": "Python 3",
   "language": "python",
   "name": "python3"
  },
  "language_info": {
   "codemirror_mode": {
    "name": "ipython",
    "version": 3
   },
   "file_extension": ".py",
   "mimetype": "text/x-python",
   "name": "python",
   "nbconvert_exporter": "python",
   "pygments_lexer": "ipython3",
   "version": "3.7.12"
  },
  "papermill": {
   "default_parameters": {},
   "duration": 13.565867,
   "end_time": "2022-03-18T05:20:31.352588",
   "environment_variables": {},
   "exception": null,
   "input_path": "__notebook__.ipynb",
   "output_path": "__notebook__.ipynb",
   "parameters": {},
   "start_time": "2022-03-18T05:20:17.786721",
   "version": "2.3.3"
  }
 },
 "nbformat": 4,
 "nbformat_minor": 5
}
